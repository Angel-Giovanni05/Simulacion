{
  "nbformat": 4,
  "nbformat_minor": 0,
  "metadata": {
    "colab": {
      "provenance": [],
      "authorship_tag": "ABX9TyO7miMrKrlGJKbt/TFmyOa5",
      "include_colab_link": true
    },
    "kernelspec": {
      "name": "python3",
      "display_name": "Python 3"
    },
    "language_info": {
      "name": "python"
    }
  },
  "cells": [
    {
      "cell_type": "markdown",
      "metadata": {
        "id": "view-in-github",
        "colab_type": "text"
      },
      "source": [
        "<a href=\"https://colab.research.google.com/github/Angel-Giovanni05/Simulacion/blob/main/Simulacion/Unidad2/uniformidad_Kolmogorov_Smirnov.ipynb\" target=\"_parent\"><img src=\"https://colab.research.google.com/assets/colab-badge.svg\" alt=\"Open In Colab\"/></a>"
      ]
    },
    {
      "cell_type": "markdown",
      "source": [
        "#Simulacion\n",
        "##Unidad 2\n",
        "Practica 2 Pruebas estadística de uniformidad de Kolmogorov-Smirnov\n",
        "\n",
        "-Realizar un programa en Python que realice 100 números aleatorios y realice la prueba de uniformidad de Kolmogorov-Smirnov\n",
        "\n",
        "\n",
        "Alumno:Angel GIovanni Romero Salazar"
      ],
      "metadata": {
        "id": "9D1dpAi9BBvX"
      }
    },
    {
      "cell_type": "code",
      "source": [
        "import numpy as np\n",
        "import scipy.stats as stats\n",
        "import matplotlib.pyplot as plt\n",
        "\n",
        "# Generar 100 números aleatorios uniformes entre 0 y 1\n",
        "random_numbers = np.random.uniform(0, 1, 100)\n",
        "\n",
        "# Imprimir los números aleatorios en columna con 4 decimales\n",
        "print(\"Números aleatorios generados:\")\n",
        "for num in random_numbers:\n",
        "    print(f'{num:.4f}')\n",
        "\n",
        "# Realizar la prueba de Kolmogorov-Smirnov\n",
        "ks_statistic, p_value = stats.kstest(random_numbers, 'uniform')\n",
        "\n",
        "# Mostrar resultados\n",
        "print(f'\\nEstadístico de Kolmogorov-Smirnov: {ks_statistic:.4f}')\n",
        "print(f'Valor p: {p_value:.4f}')\n",
        "\n",
        "# Graficar la distribución empírica vs la teórica\n",
        "plt.figure(figsize=(8, 5))\n",
        "plt.hist(random_numbers, bins=10, density=True, alpha=0.6, color='g', label='Datos generados')\n",
        "plt.plot(np.linspace(0, 1, 100), np.ones(100), 'r--', label='Distribución uniforme teórica')\n",
        "plt.xlabel('Valor')\n",
        "plt.ylabel('Densidad')\n",
        "plt.title('Histograma de los números generados')\n",
        "plt.legend()\n",
        "plt.show()\n",
        "\n",
        "# Interpretación del resultado\n",
        "alpha = 0.05\n",
        "if p_value > alpha:\n",
        "    print(\"No se rechaza la hipótesis nula: los datos parecen provenir de una distribución uniforme.\")\n",
        "else:\n",
        "    print(\"Se rechaza la hipótesis nula: los datos no parecen provenir de una distribución uniforme.\")\n"
      ],
      "metadata": {
        "colab": {
          "base_uri": "https://localhost:8080/",
          "height": 1000
        },
        "id": "j6xM7TmeBGlx",
        "outputId": "e6e26e06-cd38-40bd-ccdf-dac7cef9883b"
      },
      "execution_count": 2,
      "outputs": [
        {
          "output_type": "stream",
          "name": "stdout",
          "text": [
            "Números aleatorios generados:\n",
            "0.9972\n",
            "0.3196\n",
            "0.1076\n",
            "0.3235\n",
            "0.7360\n",
            "0.6071\n",
            "0.3885\n",
            "0.0675\n",
            "0.9503\n",
            "0.1373\n",
            "0.2432\n",
            "0.3401\n",
            "0.1014\n",
            "0.8361\n",
            "0.6011\n",
            "0.6765\n",
            "0.2649\n",
            "0.5002\n",
            "0.9481\n",
            "0.8815\n",
            "0.6781\n",
            "0.2654\n",
            "0.4743\n",
            "0.5072\n",
            "0.9956\n",
            "0.4146\n",
            "0.4652\n",
            "0.7733\n",
            "0.0526\n",
            "0.7570\n",
            "0.8183\n",
            "0.0420\n",
            "0.5223\n",
            "0.8032\n",
            "0.7734\n",
            "0.2758\n",
            "0.5213\n",
            "0.4298\n",
            "0.9699\n",
            "0.8085\n",
            "0.2782\n",
            "0.8734\n",
            "0.8984\n",
            "0.2661\n",
            "0.5332\n",
            "0.9080\n",
            "0.5604\n",
            "0.7386\n",
            "0.6730\n",
            "0.5207\n",
            "0.9951\n",
            "0.7579\n",
            "0.1333\n",
            "0.8628\n",
            "0.9194\n",
            "0.5188\n",
            "0.8483\n",
            "0.3594\n",
            "0.5591\n",
            "0.6897\n",
            "0.9845\n",
            "0.7284\n",
            "0.9437\n",
            "0.0699\n",
            "0.6539\n",
            "0.6515\n",
            "0.3494\n",
            "0.4801\n",
            "0.7329\n",
            "0.4356\n",
            "0.1027\n",
            "0.4550\n",
            "0.9415\n",
            "0.3797\n",
            "0.1313\n",
            "0.8878\n",
            "0.1831\n",
            "0.9769\n",
            "0.3340\n",
            "0.5099\n",
            "0.9632\n",
            "0.3060\n",
            "0.3020\n",
            "0.1735\n",
            "0.1405\n",
            "0.1348\n",
            "0.3661\n",
            "0.5835\n",
            "0.0836\n",
            "0.7643\n",
            "0.2489\n",
            "0.1166\n",
            "0.3819\n",
            "0.9773\n",
            "0.4824\n",
            "0.3786\n",
            "0.9577\n",
            "0.3195\n",
            "0.9171\n",
            "0.0341\n",
            "\n",
            "Estadístico de Kolmogorov-Smirnov: 0.0784\n",
            "Valor p: 0.5448\n"
          ]
        },
        {
          "output_type": "display_data",
          "data": {
            "text/plain": [
              "<Figure size 800x500 with 1 Axes>"
            ],
            "image/png": "[encoded data removed]"
          },
          "metadata": {}
        },
        {
          "output_type": "stream",
          "name": "stdout",
          "text": [
            "No se rechaza la hipótesis nula: los datos parecen provenir de una distribución uniforme.\n"
          ]
        }
      ]
    }
  ]
}